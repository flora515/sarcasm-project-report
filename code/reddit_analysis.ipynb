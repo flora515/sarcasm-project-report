{
  "nbformat": 4,
  "nbformat_minor": 0,
  "metadata": {
    "colab": {
      "provenance": [],
      "gpuType": "T4"
    },
    "kernelspec": {
      "name": "python3",
      "display_name": "Python 3"
    },
    "language_info": {
      "name": "python"
    },
    "accelerator": "GPU"
  },
  "cells": [
    {
      "cell_type": "code",
      "execution_count": null,
      "metadata": {
        "id": "V1XqHMDHRL59"
      },
      "outputs": [],
      "source": [
        "import pandas as pd\n",
        "import numpy as np\n",
        "import dask.dataframe as dd\n",
        "\n",
        "# Load all Parquet files in the directory (parquet data folder needs to have all 10 parquet files)\n",
        "df = dd.read_parquet('parquet-data/')\n",
        "\n",
        "# Inspecting the data, or what are the columns about\n",
        "partition_1 = df.to_delayed()[0].compute()\n",
        "for i in range(0,10):\n",
        "    print(f'Body: {partition_1['body'][i]} \\n') # Body = raw post\n",
        "    print(f'Normalized: {partition_1['normalizedBody'][i]}\\n') # Normalized Body = body without html characters\n",
        "    print(f'Summary: {partition_1['summary'][i]}\\n') # summary column = extracted TL;DR\n",
        "    print(f'Content: {partition_1['content'][i]}\\n\\n') # Content = NormalizedBody wihout the TL;DR\n",
        "\n",
        "## Inspecting the subreddits\n",
        "# Creating a dictionary with subreddits as unique keys and number of posts for each subreddit as value\n",
        "dict_count = {}\n",
        "for partition in df.to_delayed(): # this allows to iterate over all dataset without loading it at once\n",
        "    part_df = partition.compute()\n",
        "    for elem in list(part_df['subreddit']):\n",
        "        if elem not in dict_count.keys():\n",
        "            dict_count[elem] = 1\n",
        "        else:\n",
        "            dict_count[elem] += 1\n",
        "\n",
        "# Creating a sorted frquency list out of dict_count\n",
        "list_freq = sorted(dict_count.items(), key=lambda item: item[1], reverse=True)\n",
        "\n",
        "# Ten most frequent subreddits\n",
        "list_freq[:10] # AskReddit, leagueoflegends, AdviceAnimals, funny, pics, gaming, politics, atheism, WTF, todayilearned\n",
        "\n",
        "# Numbers of unique subreddits\n",
        "len(list_freq) # 14 121 subreddits"
      ]
    }
  ]
}